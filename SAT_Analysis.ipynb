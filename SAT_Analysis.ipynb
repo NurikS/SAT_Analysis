{
  "nbformat": 4,
  "nbformat_minor": 0,
  "metadata": {
    "colab": {
      "name": "SAT_Analysis.ipynb",
      "version": "0.3.2",
      "provenance": []
    }
  },
  "cells": [
    {
      "cell_type": "markdown",
      "metadata": {
        "id": "view-in-github",
        "colab_type": "text"
      },
      "source": [
        "[View in Colaboratory](https://colab.research.google.com/github/NurikS/SAT_Analysis/blob/master/SAT_Analysis.ipynb)"
      ]
    },
    {
      "metadata": {
        "id": "-I4nXeH94A6h",
        "colab_type": "text"
      },
      "cell_type": "markdown",
      "source": [
        "## In this project we will analyze the SAT scores of various schools, along with other variables such as demographics, AP results etc."
      ]
    },
    {
      "metadata": {
        "id": "cLFdnj666nt9",
        "colab_type": "text"
      },
      "cell_type": "markdown",
      "source": [
        "First we need to import all the necessary modules."
      ]
    },
    {
      "metadata": {
        "id": "ncbICL8h7C6q",
        "colab_type": "code",
        "colab": {}
      },
      "cell_type": "code",
      "source": [
        "from google.colab import files\n",
        "import pandas as pd\n",
        "import numpy as np\n"
      ],
      "execution_count": 0,
      "outputs": []
    },
    {
      "metadata": {
        "id": "blr0N9ky8MZw",
        "colab_type": "text"
      },
      "cell_type": "markdown",
      "source": [
        "Now let's import the needed files."
      ]
    },
    {
      "metadata": {
        "id": "QUPkzBSf8QJr",
        "colab_type": "code",
        "colab": {
          "resources": {
            "http://localhost:8080/nbextensions/google.colab/files.js": {
              "data": "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",
              "ok": true,
              "headers": [
                [
                  "content-type",
                  "application/javascript"
                ]
              ],
              "status": 200,
              "status_text": ""
            }
          },
          "base_uri": "https://localhost:8080/",
          "height": 344
        },
        "outputId": "c83c65d3-796f-4817-8ae8-f3f1e54ac315"
      },
      "cell_type": "code",
      "source": [
        "data = files.upload()"
      ],
      "execution_count": 4,
      "outputs": [
        {
          "output_type": "display_data",
          "data": {
            "text/plain": [
              "<IPython.core.display.HTML object>"
            ],
            "text/html": [
              "\n",
              "     <input type=\"file\" id=\"files-8af65630-eba1-43ac-b840-63b44d8255cb\" name=\"files[]\" multiple disabled />\n",
              "     <output id=\"result-8af65630-eba1-43ac-b840-63b44d8255cb\">\n",
              "      Upload widget is only available when the cell has been executed in the\n",
              "      current browser session. Please rerun this cell to enable.\n",
              "      </output>\n",
              "      <script src=\"/nbextensions/google.colab/files.js\"></script> "
            ]
          },
          "metadata": {
            "tags": []
          }
        },
        {
          "output_type": "stream",
          "text": [
            "Saving 2012_SAT_Results.csv to 2012_SAT_Results (1).csv\n",
            "Saving ap_results.csv to ap_results (1).csv\n",
            "Saving attendance.csv to attendance (1).csv\n",
            "Saving class_size.csv to class_size (1).csv\n",
            "Saving demographics.csv to demographics (1).csv\n",
            "Saving district_maps.csv to district_maps (1).csv\n",
            "Saving graduation_outcomes.csv to graduation_outcomes (1).csv\n",
            "Saving hs_directory.csv to hs_directory.csv\n",
            "Saving math_test_results.csv to math_test_results (1).csv\n"
          ],
          "name": "stdout"
        }
      ]
    },
    {
      "metadata": {
        "id": "2DY5wR8k-N4F",
        "colab_type": "text"
      },
      "cell_type": "markdown",
      "source": [
        "Now, we need to read each file into the pandas dataframe and put all dataframes into the dictionary."
      ]
    },
    {
      "metadata": {
        "id": "-CH-2chZ-v7-",
        "colab_type": "code",
        "colab": {}
      },
      "cell_type": "code",
      "source": [
        "datafiles = [\"2012_SAT_Results.csv\", \"ap_results.csv\", \"class_size.csv\", \"demographics.csv\", \"graduation_outcomes.csv\", \"math_test_results.csv\", \"hs_directory.csv\"]\n",
        "data = {}\n",
        "\n",
        "for f in datafiles:\n",
        "  d = pd.read_csv(\"{0}\".format(f))\n",
        "  data[f.replace(\".csv\", \"\")] = d"
      ],
      "execution_count": 0,
      "outputs": []
    },
    {
      "metadata": {
        "id": "Od-Rg4DPC3he",
        "colab_type": "text"
      },
      "cell_type": "markdown",
      "source": [
        "Once, we read all files in, we can use .head method to print first 5 lines of each frame."
      ]
    },
    {
      "metadata": {
        "id": "GAAAM6z0DEwC",
        "colab_type": "code",
        "colab": {
          "base_uri": "https://localhost:8080/",
          "height": 4046
        },
        "outputId": "10b55850-4808-443e-c76e-8737a70f818f"
      },
      "cell_type": "code",
      "source": [
        "for k,v in data.items():\n",
        "    print(\"\\n\" + k + \"\\n\")\n",
        "    print(v.head())"
      ],
      "execution_count": 7,
      "outputs": [
        {
          "output_type": "stream",
          "text": [
            "\n",
            "math_test_results\n",
            "\n",
            "      DBN Grade  Year      Category  Number Tested Mean Scale Score Level 1 #  \\\n",
            "0  01M015     3  2006  All Students             39              667         2   \n",
            "1  01M015     3  2007  All Students             31              672         2   \n",
            "2  01M015     3  2008  All Students             37              668         0   \n",
            "3  01M015     3  2009  All Students             33              668         0   \n",
            "4  01M015     3  2010  All Students             26              677         6   \n",
            "\n",
            "  Level 1 % Level 2 # Level 2 % Level 3 # Level 3 % Level 4 # Level 4 %  \\\n",
            "0      5.1%        11     28.2%        20     51.3%         6     15.4%   \n",
            "1      6.5%         3      9.7%        22       71%         4     12.9%   \n",
            "2        0%         6     16.2%        29     78.4%         2      5.4%   \n",
            "3        0%         4     12.1%        28     84.8%         1        3%   \n",
            "4     23.1%        12     46.2%         6     23.1%         2      7.7%   \n",
            "\n",
            "  Level 3+4 # Level 3+4 %  \n",
            "0          26       66.7%  \n",
            "1          26       83.9%  \n",
            "2          31       83.8%  \n",
            "3          29       87.9%  \n",
            "4           8       30.8%  \n",
            "\n",
            "2012_SAT_Results\n",
            "\n",
            "      DBN                                    SCHOOL NAME  \\\n",
            "0  01M292  HENRY STREET SCHOOL FOR INTERNATIONAL STUDIES   \n",
            "1  01M448            UNIVERSITY NEIGHBORHOOD HIGH SCHOOL   \n",
            "2  01M450                     EAST SIDE COMMUNITY SCHOOL   \n",
            "3  01M458                      FORSYTH SATELLITE ACADEMY   \n",
            "4  01M509                        MARTA VALLE HIGH SCHOOL   \n",
            "\n",
            "  Num of SAT Test Takers SAT Critical Reading Avg. Score SAT Math Avg. Score  \\\n",
            "0                     29                             355                 404   \n",
            "1                     91                             383                 423   \n",
            "2                     70                             377                 402   \n",
            "3                      7                             414                 401   \n",
            "4                     44                             390                 433   \n",
            "\n",
            "  SAT Writing Avg. Score  \n",
            "0                    363  \n",
            "1                    366  \n",
            "2                    370  \n",
            "3                    359  \n",
            "4                    384  \n",
            "\n",
            "demographics\n",
            "\n",
            "      DBN                       Name  schoolyear fl_percent  frl_percent  \\\n",
            "0  01M015  P.S. 015 ROBERTO CLEMENTE    20052006       89.4          NaN   \n",
            "1  01M015  P.S. 015 ROBERTO CLEMENTE    20062007       89.4          NaN   \n",
            "2  01M015  P.S. 015 ROBERTO CLEMENTE    20072008       89.4          NaN   \n",
            "3  01M015  P.S. 015 ROBERTO CLEMENTE    20082009       89.4          NaN   \n",
            "4  01M015  P.S. 015 ROBERTO CLEMENTE    20092010                    96.5   \n",
            "\n",
            "   total_enrollment prek   k grade1 grade2    ...     black_num black_per  \\\n",
            "0               281   15  36     40     33    ...            74      26.3   \n",
            "1               243   15  29     39     38    ...            68      28.0   \n",
            "2               261   18  43     39     36    ...            77      29.5   \n",
            "3               252   17  37     44     32    ...            75      29.8   \n",
            "4               208   16  40     28     32    ...            67      32.2   \n",
            "\n",
            "  hispanic_num hispanic_per white_num white_per male_num male_per female_num  \\\n",
            "0          189         67.3         5       1.8    158.0     56.2      123.0   \n",
            "1          153         63.0         4       1.6    140.0     57.6      103.0   \n",
            "2          157         60.2         7       2.7    143.0     54.8      118.0   \n",
            "3          149         59.1         7       2.8    149.0     59.1      103.0   \n",
            "4          118         56.7         6       2.9    124.0     59.6       84.0   \n",
            "\n",
            "  female_per  \n",
            "0       43.8  \n",
            "1       42.4  \n",
            "2       45.2  \n",
            "3       40.9  \n",
            "4       40.4  \n",
            "\n",
            "[5 rows x 38 columns]\n",
            "\n",
            "hs_directory\n",
            "\n",
            "      dbn                                        school_name    borough  \\\n",
            "0  17K548                Brooklyn School for Music & Theatre   Brooklyn   \n",
            "1  09X543                   High School for Violin and Dance      Bronx   \n",
            "2  09X327        Comprehensive Model School Project M.S. 327      Bronx   \n",
            "3  02M280     Manhattan Early College School for Advertising  Manhattan   \n",
            "4  28Q680  Queens Gateway to Health Sciences Secondary Sc...     Queens   \n",
            "\n",
            "  building_code    phone_number    fax_number  grade_span_min  grade_span_max  \\\n",
            "0          K440    718-230-6250  718-230-6262             9.0              12   \n",
            "1          X400    718-842-0687  718-589-9849             9.0              12   \n",
            "2          X240    718-294-8111  718-294-8109             6.0              12   \n",
            "3          M520  718-935-3477             NaN             9.0              10   \n",
            "4          Q695    718-969-3155  718-969-3552             6.0              12   \n",
            "\n",
            "   expgrade_span_min  expgrade_span_max  \\\n",
            "0                NaN                NaN   \n",
            "1                NaN                NaN   \n",
            "2                NaN                NaN   \n",
            "3                9.0               14.0   \n",
            "4                NaN                NaN   \n",
            "\n",
            "                         ...                         priority08 priority09  \\\n",
            "0                        ...                                NaN        NaN   \n",
            "1                        ...                                NaN        NaN   \n",
            "2                        ...                                NaN        NaN   \n",
            "3                        ...                                NaN        NaN   \n",
            "4                        ...                                NaN        NaN   \n",
            "\n",
            "  priority10                                         Location 1  \\\n",
            "0        NaN  883 Classon Avenue\\nBrooklyn, NY 11225\\n(40.67...   \n",
            "1        NaN  1110 Boston Road\\nBronx, NY 10456\\n(40.8276026...   \n",
            "2        NaN  1501 Jerome Avenue\\nBronx, NY 10452\\n(40.84241...   \n",
            "3        NaN  411 Pearl Street\\nNew York, NY 10038\\n(40.7106...   \n",
            "4        NaN  160 20 Goethals Avenue\\nJamaica, NY 11432\\n(40...   \n",
            "\n",
            "  Community Board  Council District Census Tract        BIN           BBL  \\\n",
            "0             9.0              35.0        213.0  3029686.0  3.011870e+09   \n",
            "1             3.0              16.0        135.0  2004526.0  2.026340e+09   \n",
            "2             4.0              14.0        209.0  2008336.0  2.028590e+09   \n",
            "3             1.0               1.0         29.0  1001388.0  1.001130e+09   \n",
            "4             8.0              24.0       1267.0  4539721.0  4.068580e+09   \n",
            "\n",
            "                                                 NTA  \n",
            "0  Crown Heights South                           ...  \n",
            "1  Morrisania-Melrose                            ...  \n",
            "2  West Concourse                                ...  \n",
            "3  Chinatown                                     ...  \n",
            "4  Pomonok-Flushing Heights-Hillcrest            ...  \n",
            "\n",
            "[5 rows x 64 columns]\n",
            "\n",
            "ap_results\n",
            "\n",
            "      DBN                             SchoolName AP Test Takers   \\\n",
            "0  01M448           UNIVERSITY NEIGHBORHOOD H.S.              39   \n",
            "1  01M450                 EAST SIDE COMMUNITY HS              19   \n",
            "2  01M515                    LOWER EASTSIDE PREP              24   \n",
            "3  01M539         NEW EXPLORATIONS SCI,TECH,MATH             255   \n",
            "4  02M296  High School of Hospitality Management               s   \n",
            "\n",
            "  Total Exams Taken Number of Exams with scores 3 4 or 5  \n",
            "0                49                                   10  \n",
            "1                21                                    s  \n",
            "2                26                                   24  \n",
            "3               377                                  191  \n",
            "4                 s                                    s  \n",
            "\n",
            "class_size\n",
            "\n",
            "   CSD BOROUGH SCHOOL CODE                SCHOOL NAME GRADE  PROGRAM TYPE  \\\n",
            "0    1       M        M015  P.S. 015 Roberto Clemente     0K       GEN ED   \n",
            "1    1       M        M015  P.S. 015 Roberto Clemente     0K          CTT   \n",
            "2    1       M        M015  P.S. 015 Roberto Clemente     01       GEN ED   \n",
            "3    1       M        M015  P.S. 015 Roberto Clemente     01          CTT   \n",
            "4    1       M        M015  P.S. 015 Roberto Clemente     02       GEN ED   \n",
            "\n",
            "  CORE SUBJECT (MS CORE and 9-12 ONLY) CORE COURSE (MS CORE and 9-12 ONLY)  \\\n",
            "0                                    -                                   -   \n",
            "1                                    -                                   -   \n",
            "2                                    -                                   -   \n",
            "3                                    -                                   -   \n",
            "4                                    -                                   -   \n",
            "\n",
            "  SERVICE CATEGORY(K-9* ONLY)  NUMBER OF STUDENTS / SEATS FILLED  \\\n",
            "0                           -                               19.0   \n",
            "1                           -                               21.0   \n",
            "2                           -                               17.0   \n",
            "3                           -                               17.0   \n",
            "4                           -                               15.0   \n",
            "\n",
            "   NUMBER OF SECTIONS  AVERAGE CLASS SIZE  SIZE OF SMALLEST CLASS  \\\n",
            "0                 1.0                19.0                    19.0   \n",
            "1                 1.0                21.0                    21.0   \n",
            "2                 1.0                17.0                    17.0   \n",
            "3                 1.0                17.0                    17.0   \n",
            "4                 1.0                15.0                    15.0   \n",
            "\n",
            "   SIZE OF LARGEST CLASS DATA SOURCE  SCHOOLWIDE PUPIL-TEACHER RATIO  \n",
            "0                   19.0         ATS                             NaN  \n",
            "1                   21.0         ATS                             NaN  \n",
            "2                   17.0         ATS                             NaN  \n",
            "3                   17.0         ATS                             NaN  \n",
            "4                   15.0         ATS                             NaN  \n",
            "\n",
            "graduation_outcomes\n",
            "\n",
            "    Demographic     DBN                            School Name    Cohort  \\\n",
            "0  Total Cohort  01M292  HENRY STREET SCHOOL FOR INTERNATIONAL      2003   \n",
            "1  Total Cohort  01M292  HENRY STREET SCHOOL FOR INTERNATIONAL      2004   \n",
            "2  Total Cohort  01M292  HENRY STREET SCHOOL FOR INTERNATIONAL      2005   \n",
            "3  Total Cohort  01M292  HENRY STREET SCHOOL FOR INTERNATIONAL      2006   \n",
            "4  Total Cohort  01M292  HENRY STREET SCHOOL FOR INTERNATIONAL  2006 Aug   \n",
            "\n",
            "   Total Cohort Total Grads - n Total Grads - % of cohort Total Regents - n  \\\n",
            "0             5               s                         s                 s   \n",
            "1            55              37                     67.3%                17   \n",
            "2            64              43                     67.2%                27   \n",
            "3            78              43                     55.1%                36   \n",
            "4            78              44                     56.4%                37   \n",
            "\n",
            "  Total Regents - % of cohort Total Regents - % of grads  \\\n",
            "0                           s                          s   \n",
            "1                       30.9%                      45.9%   \n",
            "2                       42.2%                      62.8%   \n",
            "3                       46.2%                      83.7%   \n",
            "4                       47.4%                      84.1%   \n",
            "\n",
            "             ...            Regents w/o Advanced - n  \\\n",
            "0            ...                                   s   \n",
            "1            ...                                  17   \n",
            "2            ...                                  27   \n",
            "3            ...                                  36   \n",
            "4            ...                                  37   \n",
            "\n",
            "  Regents w/o Advanced - % of cohort Regents w/o Advanced - % of grads  \\\n",
            "0                                  s                                 s   \n",
            "1                              30.9%                             45.9%   \n",
            "2                              42.2%                             62.8%   \n",
            "3                              46.2%                             83.7%   \n",
            "4                              47.4%                             84.1%   \n",
            "\n",
            "  Local - n Local - % of cohort   Local - % of grads Still Enrolled - n  \\\n",
            "0         s                   s                    s                  s   \n",
            "1        20               36.4%                54.1%                 15   \n",
            "2        16                 25%  37.200000000000003%                  9   \n",
            "3         7                  9%                16.3%                 16   \n",
            "4         7                  9%                15.9%                 15   \n",
            "\n",
            "  Still Enrolled - % of cohort Dropped Out - n Dropped Out - % of cohort  \n",
            "0                            s               s                         s  \n",
            "1                        27.3%               3                      5.5%  \n",
            "2                        14.1%               9                     14.1%  \n",
            "3                        20.5%              11                     14.1%  \n",
            "4                        19.2%              11                     14.1%  \n",
            "\n",
            "[5 rows x 23 columns]\n"
          ],
          "name": "stdout"
        }
      ]
    },
    {
      "metadata": {
        "id": "w6wEsieLDvVY",
        "colab_type": "text"
      },
      "cell_type": "markdown",
      "source": [
        "Now, to simplify the analysis, we need to unify the datasets, as we can see the most common column appears to be DBN, so we can try to use that as our common unifying column, however some datasets lack this column like ***class_size*** or ***hs_directory***, so we have to find a way to overcome that problem. Some online research can easily show that DBN is a code for each school, we can try to reorganize some other columns to construct a new one that we need."
      ]
    },
    {
      "metadata": {
        "id": "yOrfR6ZUE-Db",
        "colab_type": "code",
        "colab": {}
      },
      "cell_type": "code",
      "source": [
        "data[\"class_size\"][\"DBN\"] = data[\"class_size\"].apply(lambda x: \"{0:02d}{1}\".format(x[\"CSD\"], x[\"SCHOOL CODE\"]), axis=1)\n",
        "data[\"hs_directory\"][\"DBN\"] = data[\"hs_directory\"][\"dbn\"]"
      ],
      "execution_count": 0,
      "outputs": []
    },
    {
      "metadata": {
        "id": "S1WkOXKuQeIh",
        "colab_type": "text"
      },
      "cell_type": "markdown",
      "source": [
        "Now, in order to combine datasets, we need to condense them, because we would not be able to analyze SAT results, if rows on particular feature did not match. "
      ]
    },
    {
      "metadata": {
        "id": "XbKfaki-QyVX",
        "colab_type": "code",
        "colab": {}
      },
      "cell_type": "code",
      "source": [
        "class_size = data[\"class_size\"]                                      #store the class_size dataset into the variable\n",
        "class_size = class_size[class_size[\"GRADE \"] == \"09-12\"]             #only select values where GRADE is 09-12\n",
        "class_size = class_size[class_size[\"PROGRAM TYPE\"] == \"GEN ED\"]      #only select values where PROGRAM TYPE is GEN ED\n",
        "class_size = class_size.groupby(\"DBN\").agg(np.mean)                  #group class_size by DBN and take the average of each column\n",
        "class_size.reset_index(inplace=True)                                 #reset the index, so DBN wil be added back as the column\n",
        "data[\"class_size\"] = class_size                                      #replace the original dataset with modified one"
      ],
      "execution_count": 0,
      "outputs": []
    },
    {
      "metadata": {
        "id": "ZpbY1xr4SZJt",
        "colab_type": "text"
      },
      "cell_type": "markdown",
      "source": [
        "Now, let's condense other datasets"
      ]
    },
    {
      "metadata": {
        "id": "AV6wS9kQSdRA",
        "colab_type": "code",
        "colab": {}
      },
      "cell_type": "code",
      "source": [
        "#select only most recent data for particular school\n",
        "demographics = data[\"demographics\"]\n",
        "demographics = demographics[demographics[\"schoolyear\"] == 20112012]\n",
        "data[\"demographics\"] = demographics\n",
        "\n",
        "#select only one grade from one year \n",
        "data[\"math_test_results\"] = data[\"math_test_results\"][data[\"math_test_results\"][\"Year\"] == 2011]\n",
        "data[\"math_test_results\"] = data[\"math_test_results\"][data[\"math_test_results\"][\"Grade\"] == '8']\n",
        "\n",
        "#finally, condense graduation_outcomes\n",
        "data[\"graduation_outcomes\"] = data[\"graduation_outcomes\"][data[\"graduation_outcomes\"][\"Cohort\"] == \"2006\"]\n",
        "data[\"graduation_outcomes\"] = data[\"graduation_outcomes\"][data[\"graduation_outcomes\"][\"Demographic\"] == \"Total Cohort\"]"
      ],
      "execution_count": 0,
      "outputs": []
    },
    {
      "metadata": {
        "id": "ySsNYXT9UeEW",
        "colab_type": "text"
      },
      "cell_type": "markdown",
      "source": [
        "Next, we are going to need to calculate some variables for later use, such as max SAT score."
      ]
    },
    {
      "metadata": {
        "id": "wo44ulPfVZ8s",
        "colab_type": "code",
        "colab": {
          "base_uri": "https://localhost:8080/",
          "height": 88
        },
        "outputId": "89247d5c-ab55-442d-9418-af8b7bedef52"
      },
      "cell_type": "code",
      "source": [
        "cols = ['SAT Math Avg. Score', 'SAT Critical Reading Avg. Score', 'SAT Writing Avg. Score']\n",
        "for c in cols:\n",
        "    data[\"2012_SAT_Results\"][c] = data[\"2012_SAT_Results\"][c].convert_objects(convert_numeric=True)\n",
        "\n",
        "data['2012_SAT_Results']['sat_score'] = data['2012_SAT_Results'][cols[0]] + data['2012_SAT_Results'][cols[1]] + data['2012_SAT_Results'][cols[2]]"
      ],
      "execution_count": 13,
      "outputs": [
        {
          "output_type": "stream",
          "text": [
            "/usr/local/lib/python2.7/dist-packages/ipykernel_launcher.py:3: FutureWarning: convert_objects is deprecated.  To re-infer data dtypes for object columns, use Series.infer_objects()\n",
            "For all other conversions use the data-type specific converters pd.to_datetime, pd.to_timedelta and pd.to_numeric.\n",
            "  This is separate from the ipykernel package so we can avoid doing imports until\n"
          ],
          "name": "stderr"
        }
      ]
    },
    {
      "metadata": {
        "id": "iJr5sJgjWhK1",
        "colab_type": "text"
      },
      "cell_type": "markdown",
      "source": [
        "It will also be nice to have coordinate locations of schools to map them later."
      ]
    },
    {
      "metadata": {
        "id": "nEf40e54XDWV",
        "colab_type": "code",
        "colab": {
          "base_uri": "https://localhost:8080/",
          "height": 88
        },
        "outputId": "f45b5caf-d495-4acc-bdb2-c42ab1da8f92"
      },
      "cell_type": "code",
      "source": [
        "data[\"hs_directory\"]['lat'] = data[\"hs_directory\"]['Location 1'].apply(lambda x: x.split(\"\\n\")[-1].replace(\"(\", \"\").replace(\")\", \"\").split(\", \")[0])\n",
        "data[\"hs_directory\"]['lon'] = data[\"hs_directory\"]['Location 1'].apply(lambda x: x.split(\"\\n\")[-1].replace(\"(\", \"\").replace(\")\", \"\").split(\", \")[1])\n",
        "\n",
        "for c in ['lat', 'lon']:\n",
        "    data[\"hs_directory\"][c] = data[\"hs_directory\"][c].convert_objects(convert_numeric=True)"
      ],
      "execution_count": 15,
      "outputs": [
        {
          "output_type": "stream",
          "text": [
            "/usr/local/lib/python2.7/dist-packages/ipykernel_launcher.py:5: FutureWarning: convert_objects is deprecated.  To re-infer data dtypes for object columns, use Series.infer_objects()\n",
            "For all other conversions use the data-type specific converters pd.to_datetime, pd.to_timedelta and pd.to_numeric.\n",
            "  \"\"\"\n"
          ],
          "name": "stderr"
        }
      ]
    },
    {
      "metadata": {
        "id": "3gP9KOMJXK4P",
        "colab_type": "text"
      },
      "cell_type": "markdown",
      "source": [
        "Now, let's print everything out to see what we have."
      ]
    },
    {
      "metadata": {
        "id": "4_VeNPtIXQnB",
        "colab_type": "code",
        "colab": {
          "base_uri": "https://localhost:8080/",
          "height": 3570
        },
        "outputId": "b7f210eb-5292-4771-eb09-27af60b79536"
      },
      "cell_type": "code",
      "source": [
        "for k,v in data.items():\n",
        "    print(k)\n",
        "    print(v.head())"
      ],
      "execution_count": 16,
      "outputs": [
        {
          "output_type": "stream",
          "text": [
            "math_test_results\n",
            "        DBN Grade  Year      Category  Number Tested Mean Scale Score  \\\n",
            "111  01M034     8  2011  All Students             48              646   \n",
            "280  01M140     8  2011  All Students             61              665   \n",
            "346  01M184     8  2011  All Students             49              727   \n",
            "388  01M188     8  2011  All Students             49              658   \n",
            "411  01M292     8  2011  All Students             49              650   \n",
            "\n",
            "    Level 1 # Level 1 % Level 2 # Level 2 % Level 3 # Level 3 % Level 4 #  \\\n",
            "111        15     31.3%        22     45.8%        11     22.9%         0   \n",
            "280         1      1.6%        43     70.5%        17     27.9%         0   \n",
            "346         0        0%         0        0%         5     10.2%        44   \n",
            "388        10     20.4%        26     53.1%        10     20.4%         3   \n",
            "411        15     30.6%        25       51%         7     14.3%         2   \n",
            "\n",
            "    Level 4 % Level 3+4 # Level 3+4 %  \n",
            "111        0%          11       22.9%  \n",
            "280        0%          17       27.9%  \n",
            "346     89.8%          49        100%  \n",
            "388      6.1%          13       26.5%  \n",
            "411      4.1%           9       18.4%  \n",
            "2012_SAT_Results\n",
            "      DBN                                    SCHOOL NAME  \\\n",
            "0  01M292  HENRY STREET SCHOOL FOR INTERNATIONAL STUDIES   \n",
            "1  01M448            UNIVERSITY NEIGHBORHOOD HIGH SCHOOL   \n",
            "2  01M450                     EAST SIDE COMMUNITY SCHOOL   \n",
            "3  01M458                      FORSYTH SATELLITE ACADEMY   \n",
            "4  01M509                        MARTA VALLE HIGH SCHOOL   \n",
            "\n",
            "  Num of SAT Test Takers  SAT Critical Reading Avg. Score  \\\n",
            "0                     29                            355.0   \n",
            "1                     91                            383.0   \n",
            "2                     70                            377.0   \n",
            "3                      7                            414.0   \n",
            "4                     44                            390.0   \n",
            "\n",
            "   SAT Math Avg. Score  SAT Writing Avg. Score  sat_score  \n",
            "0                404.0                   363.0     1122.0  \n",
            "1                423.0                   366.0     1172.0  \n",
            "2                402.0                   370.0     1149.0  \n",
            "3                401.0                   359.0     1174.0  \n",
            "4                433.0                   384.0     1207.0  \n",
            "demographics\n",
            "       DBN                                              Name  schoolyear  \\\n",
            "6   01M015  P.S. 015 ROBERTO CLEMENTE                           20112012   \n",
            "13  01M019  P.S. 019 ASHER LEVY                                 20112012   \n",
            "20  01M020  PS 020 ANNA SILVER                                  20112012   \n",
            "27  01M034  PS 034 FRANKLIN D ROOSEVELT                         20112012   \n",
            "35  01M063  PS 063 WILLIAM MCKINLEY                             20112012   \n",
            "\n",
            "   fl_percent  frl_percent  total_enrollment prek    k grade1 grade2  \\\n",
            "6         NaN         89.4               189   13   31     35     28   \n",
            "13        NaN         61.5               328   32   46     52     54   \n",
            "20        NaN         92.5               626   52  102    121     87   \n",
            "27        NaN         99.7               401   14   34     38     36   \n",
            "35        NaN         78.9               176   18   20     30     21   \n",
            "\n",
            "      ...     black_num black_per hispanic_num hispanic_per white_num  \\\n",
            "6     ...            63      33.3          109         57.7         4   \n",
            "13    ...            81      24.7          158         48.2        28   \n",
            "20    ...            55       8.8          357         57.0        16   \n",
            "27    ...            90      22.4          275         68.6         8   \n",
            "35    ...            41      23.3          110         62.5        15   \n",
            "\n",
            "   white_per male_num male_per female_num female_per  \n",
            "6        2.1     97.0     51.3       92.0       48.7  \n",
            "13       8.5    147.0     44.8      181.0       55.2  \n",
            "20       2.6    330.0     52.7      296.0       47.3  \n",
            "27       2.0    204.0     50.9      197.0       49.1  \n",
            "35       8.5     97.0     55.1       79.0       44.9  \n",
            "\n",
            "[5 rows x 38 columns]\n",
            "hs_directory\n",
            "      dbn                                        school_name    borough  \\\n",
            "0  17K548                Brooklyn School for Music & Theatre   Brooklyn   \n",
            "1  09X543                   High School for Violin and Dance      Bronx   \n",
            "2  09X327        Comprehensive Model School Project M.S. 327      Bronx   \n",
            "3  02M280     Manhattan Early College School for Advertising  Manhattan   \n",
            "4  28Q680  Queens Gateway to Health Sciences Secondary Sc...     Queens   \n",
            "\n",
            "  building_code    phone_number    fax_number  grade_span_min  grade_span_max  \\\n",
            "0          K440    718-230-6250  718-230-6262             9.0              12   \n",
            "1          X400    718-842-0687  718-589-9849             9.0              12   \n",
            "2          X240    718-294-8111  718-294-8109             6.0              12   \n",
            "3          M520  718-935-3477             NaN             9.0              10   \n",
            "4          Q695    718-969-3155  718-969-3552             6.0              12   \n",
            "\n",
            "   expgrade_span_min  expgrade_span_max    ...      \\\n",
            "0                NaN                NaN    ...       \n",
            "1                NaN                NaN    ...       \n",
            "2                NaN                NaN    ...       \n",
            "3                9.0               14.0    ...       \n",
            "4                NaN                NaN    ...       \n",
            "\n",
            "                                          Location 1 Community Board  \\\n",
            "0  883 Classon Avenue\\nBrooklyn, NY 11225\\n(40.67...             9.0   \n",
            "1  1110 Boston Road\\nBronx, NY 10456\\n(40.8276026...             3.0   \n",
            "2  1501 Jerome Avenue\\nBronx, NY 10452\\n(40.84241...             4.0   \n",
            "3  411 Pearl Street\\nNew York, NY 10038\\n(40.7106...             1.0   \n",
            "4  160 20 Goethals Avenue\\nJamaica, NY 11432\\n(40...             8.0   \n",
            "\n",
            "  Council District Census Tract        BIN           BBL  \\\n",
            "0             35.0        213.0  3029686.0  3.011870e+09   \n",
            "1             16.0        135.0  2004526.0  2.026340e+09   \n",
            "2             14.0        209.0  2008336.0  2.028590e+09   \n",
            "3              1.0         29.0  1001388.0  1.001130e+09   \n",
            "4             24.0       1267.0  4539721.0  4.068580e+09   \n",
            "\n",
            "                                                 NTA     DBN        lat  \\\n",
            "0  Crown Heights South                           ...  17K548  40.670299   \n",
            "1  Morrisania-Melrose                            ...  09X543  40.827603   \n",
            "2  West Concourse                                ...  09X327  40.842414   \n",
            "3  Chinatown                                     ...  02M280  40.710679   \n",
            "4  Pomonok-Flushing Heights-Hillcrest            ...  28Q680  40.718810   \n",
            "\n",
            "         lon  \n",
            "0 -73.961648  \n",
            "1 -73.904475  \n",
            "2 -73.916162  \n",
            "3 -74.000807  \n",
            "4 -73.806500  \n",
            "\n",
            "[5 rows x 67 columns]\n",
            "ap_results\n",
            "      DBN                             SchoolName AP Test Takers   \\\n",
            "0  01M448           UNIVERSITY NEIGHBORHOOD H.S.              39   \n",
            "1  01M450                 EAST SIDE COMMUNITY HS              19   \n",
            "2  01M515                    LOWER EASTSIDE PREP              24   \n",
            "3  01M539         NEW EXPLORATIONS SCI,TECH,MATH             255   \n",
            "4  02M296  High School of Hospitality Management               s   \n",
            "\n",
            "  Total Exams Taken Number of Exams with scores 3 4 or 5  \n",
            "0                49                                   10  \n",
            "1                21                                    s  \n",
            "2                26                                   24  \n",
            "3               377                                  191  \n",
            "4                 s                                    s  \n",
            "class_size\n",
            "      DBN  CSD  NUMBER OF STUDENTS / SEATS FILLED  NUMBER OF SECTIONS  \\\n",
            "0  01M292    1                            88.0000            4.000000   \n",
            "1  01M332    1                            46.0000            2.000000   \n",
            "2  01M378    1                            33.0000            1.000000   \n",
            "3  01M448    1                           105.6875            4.750000   \n",
            "4  01M450    1                            57.6000            2.733333   \n",
            "\n",
            "   AVERAGE CLASS SIZE  SIZE OF SMALLEST CLASS  SIZE OF LARGEST CLASS  \\\n",
            "0           22.564286                   18.50              26.571429   \n",
            "1           22.000000                   21.00              23.500000   \n",
            "2           33.000000                   33.00              33.000000   \n",
            "3           22.231250                   18.25              27.062500   \n",
            "4           21.200000                   19.40              22.866667   \n",
            "\n",
            "   SCHOOLWIDE PUPIL-TEACHER RATIO  \n",
            "0                             NaN  \n",
            "1                             NaN  \n",
            "2                             NaN  \n",
            "3                             NaN  \n",
            "4                             NaN  \n",
            "graduation_outcomes\n",
            "     Demographic     DBN                            School Name Cohort  \\\n",
            "3   Total Cohort  01M292  HENRY STREET SCHOOL FOR INTERNATIONAL   2006   \n",
            "10  Total Cohort  01M448    UNIVERSITY NEIGHBORHOOD HIGH SCHOOL   2006   \n",
            "17  Total Cohort  01M450             EAST SIDE COMMUNITY SCHOOL   2006   \n",
            "24  Total Cohort  01M509                MARTA VALLE HIGH SCHOOL   2006   \n",
            "31  Total Cohort  01M515  LOWER EAST SIDE PREPARATORY HIGH SCHO   2006   \n",
            "\n",
            "    Total Cohort Total Grads - n Total Grads - % of cohort Total Regents - n  \\\n",
            "3             78              43                     55.1%                36   \n",
            "10           124              53                     42.7%                42   \n",
            "17            90              70                     77.8%                67   \n",
            "24            84              47                       56%                40   \n",
            "31           193             105                     54.4%                91   \n",
            "\n",
            "   Total Regents - % of cohort Total Regents - % of grads  \\\n",
            "3                        46.2%                      83.7%   \n",
            "10                       33.9%                      79.2%   \n",
            "17         74.400000000000006%                      95.7%   \n",
            "24                       47.6%                      85.1%   \n",
            "31                       47.2%                      86.7%   \n",
            "\n",
            "              ...            Regents w/o Advanced - n  \\\n",
            "3             ...                                  36   \n",
            "10            ...                                  34   \n",
            "17            ...                                  67   \n",
            "24            ...                                  23   \n",
            "31            ...                                  22   \n",
            "\n",
            "   Regents w/o Advanced - % of cohort Regents w/o Advanced - % of grads  \\\n",
            "3                               46.2%                             83.7%   \n",
            "10                              27.4%                             64.2%   \n",
            "17                74.400000000000006%                             95.7%   \n",
            "24                              27.4%                             48.9%   \n",
            "31                              11.4%                               21%   \n",
            "\n",
            "   Local - n Local - % of cohort Local - % of grads Still Enrolled - n  \\\n",
            "3          7                  9%              16.3%                 16   \n",
            "10        11                8.9%              20.8%                 46   \n",
            "17         3                3.3%               4.3%                 15   \n",
            "24         7  8.300000000000001%              14.9%                 25   \n",
            "31        14                7.3%              13.3%                 53   \n",
            "\n",
            "   Still Enrolled - % of cohort Dropped Out - n Dropped Out - % of cohort  \n",
            "3                         20.5%              11                     14.1%  \n",
            "10                        37.1%              20       16.100000000000001%  \n",
            "17                        16.7%               5                      5.6%  \n",
            "24                        29.8%               5                        6%  \n",
            "31                        27.5%              35       18.100000000000001%  \n",
            "\n",
            "[5 rows x 23 columns]\n"
          ],
          "name": "stdout"
        }
      ]
    },
    {
      "metadata": {
        "id": "LRA0CFRGXqh5",
        "colab_type": "text"
      },
      "cell_type": "markdown",
      "source": [
        "Now, we are finally ready to combine all the datasets using join, since some datasets don't have ***high school*** that ***2012_SAT_Results***, we will use outer join technique."
      ]
    },
    {
      "metadata": {
        "id": "HRix4lgeYj2T",
        "colab_type": "code",
        "colab": {
          "base_uri": "https://localhost:8080/",
          "height": 238
        },
        "outputId": "6775b32e-8981-4d8a-fddc-e952be577fb0"
      },
      "cell_type": "code",
      "source": [
        "#loop through every item in the data dict\n",
        "#print the number of not unique DBNs in the item\n",
        "#Choose the join technique - inner or outer\n",
        "#Join the item to dataframe full using the column DBN\n",
        "\n",
        "flat_data_names = [k for k,v in data.items()]\n",
        "flat_data = [data[k] for k in flat_data_names]\n",
        "full = flat_data[0]\n",
        "for i, f in enumerate(flat_data[1:]):\n",
        "    name = flat_data_names[i+1]\n",
        "    print(name)\n",
        "    print(len(f[\"DBN\"]) - len(f[\"DBN\"].unique()))\n",
        "    join_type = \"inner\"\n",
        "    if name in [\"2012_SAT_Results\", \"ap_results\", \"graduation_outcomes\"]:\n",
        "        join_type = \"outer\"\n",
        "    if name not in [\"math_test_results\"]:\n",
        "        full = full.merge(f, on=\"DBN\", how=join_type)\n",
        "\n",
        "full.shape"
      ],
      "execution_count": 17,
      "outputs": [
        {
          "output_type": "stream",
          "text": [
            "2012_SAT_Results\n",
            "0\n",
            "demographics\n",
            "0\n",
            "hs_directory\n",
            "0\n",
            "ap_results\n",
            "1\n",
            "class_size\n",
            "0\n",
            "graduation_outcomes\n",
            "0\n"
          ],
          "name": "stdout"
        },
        {
          "output_type": "execute_result",
          "data": {
            "text/plain": [
              "(466, 158)"
            ]
          },
          "metadata": {
            "tags": []
          },
          "execution_count": 17
        }
      ]
    },
    {
      "metadata": {
        "id": "n4GlvsDzbJe9",
        "colab_type": "text"
      },
      "cell_type": "markdown",
      "source": [
        "We are almost ready to do our analysis, we still need to do one thing though. We may want to find some correalation between SAT and AP exam results. To do that we need to convert values in ***ap_results*** to numeric."
      ]
    },
    {
      "metadata": {
        "id": "5hpQ9-HTbyQD",
        "colab_type": "code",
        "colab": {
          "base_uri": "https://localhost:8080/",
          "height": 88
        },
        "outputId": "68468cf9-7f49-4e2d-d6d5-785db9354b4c"
      },
      "cell_type": "code",
      "source": [
        "cols = ['AP Test Takers ', 'Total Exams Taken', 'Number of Exams with scores 3 4 or 5']\n",
        "\n",
        "for col in cols:\n",
        "    full[col] = full[col].convert_objects(convert_numeric=True)\n",
        "\n",
        "full[cols] = full[cols].fillna(value=0)"
      ],
      "execution_count": 18,
      "outputs": [
        {
          "output_type": "stream",
          "text": [
            "/usr/local/lib/python2.7/dist-packages/ipykernel_launcher.py:4: FutureWarning: convert_objects is deprecated.  To re-infer data dtypes for object columns, use Series.infer_objects()\n",
            "For all other conversions use the data-type specific converters pd.to_datetime, pd.to_timedelta and pd.to_numeric.\n",
            "  after removing the cwd from sys.path.\n"
          ],
          "name": "stderr"
        }
      ]
    },
    {
      "metadata": {
        "id": "u5_cpGIBcAC9",
        "colab_type": "text"
      },
      "cell_type": "markdown",
      "source": [
        "Plus, we need to calculate a ***school_dist*** column that indicates the school district of the school. This will enable us to match up school districts and plot out district-level statistics using the district maps we downloaded earlier."
      ]
    },
    {
      "metadata": {
        "id": "2vsq_HMVcUOx",
        "colab_type": "code",
        "colab": {}
      },
      "cell_type": "code",
      "source": [
        "full[\"school_dist\"] = full[\"DBN\"].apply(lambda x: x[:2])"
      ],
      "execution_count": 0,
      "outputs": []
    },
    {
      "metadata": {
        "id": "lCPZzzyTcrBW",
        "colab_type": "text"
      },
      "cell_type": "markdown",
      "source": [
        "Let's get rid of any missing values in full."
      ]
    },
    {
      "metadata": {
        "id": "kxA3JfUocve0",
        "colab_type": "code",
        "colab": {}
      },
      "cell_type": "code",
      "source": [
        "full = full.fillna(full.mean())"
      ],
      "execution_count": 0,
      "outputs": []
    },
    {
      "metadata": {
        "id": "ggZEO760c3hp",
        "colab_type": "text"
      },
      "cell_type": "markdown",
      "source": [
        "Now, we are ready to compute correlations."
      ]
    },
    {
      "metadata": {
        "id": "vLFk2qR-c8AV",
        "colab_type": "code",
        "colab": {
          "base_uri": "https://localhost:8080/",
          "height": 884
        },
        "outputId": "668fd8c0-4b37-4e42-8b0c-9edbf7d5c458"
      },
      "cell_type": "code",
      "source": [
        "full.corr()['sat_score']"
      ],
      "execution_count": 21,
      "outputs": [
        {
          "output_type": "execute_result",
          "data": {
            "text/plain": [
              "Year                                             NaN\n",
              "Number Tested                           8.127817e-02\n",
              "SAT Critical Reading Avg. Score         9.868201e-01\n",
              "SAT Math Avg. Score                     9.726430e-01\n",
              "SAT Writing Avg. Score                  9.877708e-01\n",
              "sat_score                               1.000000e+00\n",
              "schoolyear                                       NaN\n",
              "frl_percent                            -7.018217e-01\n",
              "total_enrollment                        3.668201e-01\n",
              "ell_num                                -1.535745e-01\n",
              "ell_percent                            -3.981643e-01\n",
              "sped_num                                3.486852e-02\n",
              "sped_percent                           -4.413665e-01\n",
              "asian_num                               4.748801e-01\n",
              "asian_per                               5.686267e-01\n",
              "black_num                               2.788331e-02\n",
              "black_per                              -2.827907e-01\n",
              "hispanic_num                            2.568811e-02\n",
              "hispanic_per                           -3.926373e-01\n",
              "white_num                               4.490835e-01\n",
              "white_per                               6.100860e-01\n",
              "male_num                                3.245320e-01\n",
              "male_per                               -1.101484e-01\n",
              "female_num                              3.876979e-01\n",
              "female_per                              1.101928e-01\n",
              "grade_span_min                         -2.086510e-02\n",
              "grade_span_max                         -5.371748e-17\n",
              "expgrade_span_min                                NaN\n",
              "expgrade_span_max                                NaN\n",
              "postcode                               -6.352768e-02\n",
              "total_students                          4.070954e-01\n",
              "number_programs                         1.167751e-01\n",
              "Community Board                        -6.049050e-02\n",
              "Council District                       -7.566970e-02\n",
              "Census Tract                            4.872649e-02\n",
              "BIN                                     5.197043e-02\n",
              "BBL                                     4.420582e-02\n",
              "lat                                    -1.201172e-01\n",
              "lon                                    -1.319380e-01\n",
              "AP Test Takers                          5.616624e-01\n",
              "Total Exams Taken                       5.530062e-01\n",
              "Number of Exams with scores 3 4 or 5    5.590729e-01\n",
              "CSD                                     4.145670e-02\n",
              "NUMBER OF STUDENTS / SEATS FILLED       3.846039e-01\n",
              "NUMBER OF SECTIONS                      3.499256e-01\n",
              "AVERAGE CLASS SIZE                      3.648122e-01\n",
              "SIZE OF SMALLEST CLASS                  2.347062e-01\n",
              "SIZE OF LARGEST CLASS                   2.981635e-01\n",
              "SCHOOLWIDE PUPIL-TEACHER RATIO                   NaN\n",
              "Total Cohort                            3.089394e-01\n",
              "Name: sat_score, dtype: float64"
            ]
          },
          "metadata": {
            "tags": []
          },
          "execution_count": 21
        }
      ]
    },
    {
      "metadata": {
        "id": "M-yq5qRTdJvd",
        "colab_type": "text"
      },
      "cell_type": "markdown",
      "source": [
        "This information gives a few insights into the data. For instance, total enrollment correlates strongly with sat_score, which is weird, because you'd think smaller schools, which focused more on the student, would have higher scores."
      ]
    },
    {
      "metadata": {
        "id": "ni3bQVQ1dwgT",
        "colab_type": "text"
      },
      "cell_type": "markdown",
      "source": [
        "Now, we can plot a graph that shows the correlation between those two variables."
      ]
    },
    {
      "metadata": {
        "id": "QStzzNObdqkt",
        "colab_type": "code",
        "colab": {
          "base_uri": "https://localhost:8080/",
          "height": 296
        },
        "outputId": "f746ff71-997a-4a01-86fc-8388e9c1c36d"
      },
      "cell_type": "code",
      "source": [
        "%matplotlib inline\n",
        "\n",
        "full.plot.scatter(x='total_enrollment', y='sat_score')"
      ],
      "execution_count": 22,
      "outputs": [
        {
          "output_type": "execute_result",
          "data": {
            "text/plain": [
              "<matplotlib.axes._subplots.AxesSubplot at 0x7f1943c29090>"
            ]
          },
          "metadata": {
            "tags": []
          },
          "execution_count": 22
        },
        {
          "output_type": "display_data",
          "data": {
            "image/png": "[encoded data removed]",
            "text/plain": [
              "<matplotlib.figure.Figure at 0x7f1943db7810>"
            ]
          },
          "metadata": {
            "tags": []
          }
        }
      ]
    },
    {
      "metadata": {
        "id": "E1vsEf4NeJww",
        "colab_type": "text"
      },
      "cell_type": "markdown",
      "source": [
        "We could now take a deeper look at any other pair of values to discover unexpected patterns and analyze them using different techniques."
      ]
    }
  ]
}